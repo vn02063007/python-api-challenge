{
 "cells": [
  {
   "cell_type": "markdown",
   "metadata": {},
   "source": [
    "# WeatherPy\n",
    "\n",
    "---\n",
    "\n",
    "## Starter Code to Generate Random Geographic Coordinates and a List of Cities"
   ]
  },
  {
   "cell_type": "code",
   "execution_count": 1,
   "metadata": {
    "scrolled": true
   },
   "outputs": [],
   "source": [
    "# Dependencies and Setup\n",
    "import matplotlib.pyplot as plt\n",
    "import pandas as pd\n",
    "import numpy as np\n",
    "import requests\n",
    "import time\n",
    "from scipy.stats import linregress\n",
    "import json\n",
    "# Impor the OpenWeatherMap API key\n",
    "from api_keys import weather_api_key\n",
    "\n",
    "# Import citipy to determine the cities based on latitude and longitude\n",
    "from citipy import citipy"
   ]
  },
  {
   "cell_type": "markdown",
   "metadata": {},
   "source": [
    "### Generate the Cities List by Using the `citipy` Library"
   ]
  },
  {
   "cell_type": "code",
   "execution_count": 2,
   "metadata": {},
   "outputs": [
    {
     "name": "stdout",
     "output_type": "stream",
     "text": [
      "Number of cities in the list: 611\n"
     ]
    }
   ],
   "source": [
    "# Empty list for holding the latitude and longitude combinations\n",
    "lat_lngs = []\n",
    "\n",
    "# Empty list for holding the cities names\n",
    "cities = []\n",
    "\n",
    "# Range of latitudes and longitudes\n",
    "lat_range = (-90, 90)\n",
    "lng_range = (-180, 180)\n",
    "\n",
    "# Create a set of random lat and lng combinations\n",
    "lats = np.random.uniform(lat_range[0], lat_range[1], size=1500)\n",
    "lngs = np.random.uniform(lng_range[0], lng_range[1], size=1500)\n",
    "lat_lngs = zip(lats, lngs)\n",
    "\n",
    "# Identify nearest city for each lat, lng combination\n",
    "for lat_lng in lat_lngs:\n",
    "    city = citipy.nearest_city(lat_lng[0], lat_lng[1]).city_name\n",
    "    \n",
    "    # If the city is unique, then add it to a our cities list\n",
    "    if city not in cities:\n",
    "        cities.append(city)\n",
    "\n",
    "# Print the city count to confirm sufficient count\n",
    "print(f\"Number of cities in the list: {len(cities)}\")\n"
   ]
  },
  {
   "cell_type": "markdown",
   "metadata": {},
   "source": [
    "## Requirement 1: Create Plots to Showcase the Relationship Between Weather Variables and Latitude\n",
    "\n",
    "### Use the OpenWeatherMap API to retrieve weather data from the cities list generated in the started code"
   ]
  },
  {
   "cell_type": "code",
   "execution_count": 3,
   "metadata": {},
   "outputs": [
    {
     "name": "stdout",
     "output_type": "stream",
     "text": [
      "Beginning Data Retrieval     \n",
      "-----------------------------\n",
      "Processing Record 1 of Set 1 | mataura\n",
      "Processing Record 2 of Set 1 | qaanaaq\n",
      "Processing Record 3 of Set 1 | bluff\n",
      "Processing Record 4 of Set 1 | ushuaia\n",
      "Processing Record 5 of Set 1 | ayorou\n",
      "Processing Record 6 of Set 1 | juanjui\n",
      "Processing Record 7 of Set 1 | manggar\n",
      "Processing Record 8 of Set 1 | santa maria\n",
      "Processing Record 9 of Set 1 | hithadhoo\n",
      "Processing Record 10 of Set 1 | airai\n",
      "Processing Record 11 of Set 1 | kitzingen\n",
      "Processing Record 12 of Set 1 | ardakan\n",
      "Processing Record 13 of Set 1 | soria\n",
      "Processing Record 14 of Set 1 | illoqqortoormiut\n",
      "City not found. Skipping...\n",
      "Processing Record 15 of Set 1 | salta\n",
      "Processing Record 16 of Set 1 | thompson\n",
      "Processing Record 17 of Set 1 | tumannyy\n",
      "City not found. Skipping...\n",
      "Processing Record 18 of Set 1 | poltavka\n",
      "Processing Record 19 of Set 1 | yumen\n",
      "Processing Record 20 of Set 1 | egvekinot\n",
      "Processing Record 21 of Set 1 | longyearbyen\n",
      "Processing Record 22 of Set 1 | bengkulu\n",
      "Processing Record 23 of Set 1 | meulaboh\n",
      "Processing Record 24 of Set 1 | monterey\n",
      "Processing Record 25 of Set 1 | carutapera\n",
      "Processing Record 26 of Set 1 | punta arenas\n",
      "Processing Record 27 of Set 1 | vaitupu\n",
      "City not found. Skipping...\n",
      "Processing Record 28 of Set 1 | savelugu\n",
      "Processing Record 29 of Set 1 | phalombe\n",
      "Processing Record 30 of Set 1 | saskylakh\n",
      "Processing Record 31 of Set 1 | grindavik\n",
      "Processing Record 32 of Set 1 | hobart\n",
      "Processing Record 33 of Set 1 | mar del plata\n",
      "Processing Record 34 of Set 1 | yar-sale\n",
      "Processing Record 35 of Set 1 | chuy\n",
      "Processing Record 36 of Set 1 | port alfred\n",
      "Processing Record 37 of Set 1 | roebourne\n",
      "Processing Record 38 of Set 1 | evensk\n",
      "Processing Record 39 of Set 1 | amderma\n",
      "City not found. Skipping...\n",
      "Processing Record 40 of Set 1 | olinda\n",
      "Processing Record 41 of Set 1 | jamestown\n",
      "Processing Record 42 of Set 1 | iqaluit\n",
      "Processing Record 43 of Set 1 | aswan\n",
      "Processing Record 44 of Set 1 | cape town\n",
      "Processing Record 45 of Set 1 | kruisfontein\n",
      "Processing Record 46 of Set 1 | hilo\n",
      "Processing Record 47 of Set 1 | umzimvubu\n",
      "City not found. Skipping...\n",
      "Processing Record 48 of Set 1 | bambous virieux\n",
      "Processing Record 49 of Set 1 | butaritari\n",
      "Processing Record 50 of Set 1 | leningradskiy\n",
      "Processing Record 0 of Set 2 | ihosy\n",
      "Processing Record 1 of Set 2 | puerto ayora\n",
      "Processing Record 2 of Set 2 | ishigaki\n",
      "Processing Record 3 of Set 2 | loubomo\n",
      "Processing Record 4 of Set 2 | ahipara\n",
      "Processing Record 5 of Set 2 | belushya guba\n",
      "City not found. Skipping...\n",
      "Processing Record 6 of Set 2 | krasnyy yar\n",
      "Processing Record 7 of Set 2 | pontianak\n",
      "Processing Record 8 of Set 2 | srednekolymsk\n",
      "Processing Record 9 of Set 2 | cabo san lucas\n",
      "Processing Record 10 of Set 2 | tuatapere\n",
      "Processing Record 11 of Set 2 | toliary\n",
      "City not found. Skipping...\n",
      "Processing Record 12 of Set 2 | barrow\n",
      "Processing Record 13 of Set 2 | tigil\n",
      "Processing Record 14 of Set 2 | constitucion\n",
      "Processing Record 15 of Set 2 | shelton\n",
      "Processing Record 16 of Set 2 | atuona\n",
      "Processing Record 17 of Set 2 | nangong\n",
      "Processing Record 18 of Set 2 | koumac\n",
      "Processing Record 19 of Set 2 | albany\n",
      "Processing Record 20 of Set 2 | uglegorsk\n",
      "Processing Record 21 of Set 2 | puerto maldonado\n",
      "Processing Record 22 of Set 2 | busselton\n",
      "Processing Record 23 of Set 2 | pitimbu\n",
      "Processing Record 24 of Set 2 | saint george\n",
      "Processing Record 25 of Set 2 | los llanos de aridane\n",
      "Processing Record 26 of Set 2 | port augusta\n",
      "Processing Record 27 of Set 2 | korla\n",
      "Processing Record 28 of Set 2 | helena\n",
      "Processing Record 29 of Set 2 | novyy urengoy\n",
      "Processing Record 30 of Set 2 | batemans bay\n",
      "Processing Record 31 of Set 2 | walvis bay\n",
      "Processing Record 32 of Set 2 | rikitea\n",
      "Processing Record 33 of Set 2 | pangnirtung\n",
      "Processing Record 34 of Set 2 | carauari\n",
      "Processing Record 35 of Set 2 | millinocket\n",
      "Processing Record 36 of Set 2 | yellowknife\n",
      "Processing Record 37 of Set 2 | bredasdorp\n",
      "Processing Record 38 of Set 2 | ushtobe\n",
      "Processing Record 39 of Set 2 | khatanga\n",
      "Processing Record 40 of Set 2 | hamilton\n",
      "Processing Record 41 of Set 2 | hermanus\n",
      "Processing Record 42 of Set 2 | marcona\n",
      "City not found. Skipping...\n",
      "Processing Record 43 of Set 2 | taolanaro\n",
      "City not found. Skipping...\n",
      "Processing Record 44 of Set 2 | new norfolk\n",
      "Processing Record 45 of Set 2 | kapaa\n",
      "Processing Record 46 of Set 2 | tautira\n",
      "Processing Record 47 of Set 2 | smithers\n",
      "Processing Record 48 of Set 2 | hambantota\n",
      "Processing Record 49 of Set 2 | honiara\n",
      "Processing Record 0 of Set 3 | saldanha\n",
      "Processing Record 1 of Set 3 | nome\n",
      "Processing Record 2 of Set 3 | lubao\n",
      "Processing Record 3 of Set 3 | port hardy\n",
      "Processing Record 4 of Set 3 | vestmannaeyjar\n",
      "Processing Record 5 of Set 3 | sentyabrskiy\n",
      "City not found. Skipping...\n",
      "Processing Record 6 of Set 3 | kolo\n",
      "Processing Record 7 of Set 3 | dingle\n",
      "Processing Record 8 of Set 3 | dudinka\n",
      "Processing Record 9 of Set 3 | san quintin\n",
      "Processing Record 10 of Set 3 | grand river south east\n",
      "City not found. Skipping...\n",
      "Processing Record 11 of Set 3 | khandyga\n",
      "Processing Record 12 of Set 3 | alyangula\n",
      "Processing Record 13 of Set 3 | klaksvik\n",
      "Processing Record 14 of Set 3 | malangwa\n",
      "Processing Record 15 of Set 3 | rungata\n",
      "City not found. Skipping...\n",
      "Processing Record 16 of Set 3 | san cristobal\n",
      "Processing Record 17 of Set 3 | san felipe\n",
      "Processing Record 18 of Set 3 | cayenne\n",
      "Processing Record 19 of Set 3 | esperance\n",
      "Processing Record 20 of Set 3 | saint-philippe\n",
      "Processing Record 21 of Set 3 | beboto\n",
      "Processing Record 22 of Set 3 | huron\n",
      "Processing Record 23 of Set 3 | mishelevka\n",
      "Processing Record 24 of Set 3 | kiama\n",
      "Processing Record 25 of Set 3 | tiksi\n",
      "Processing Record 26 of Set 3 | suhut\n",
      "Processing Record 27 of Set 3 | krasnoborsk\n",
      "Processing Record 28 of Set 3 | golden\n",
      "Processing Record 29 of Set 3 | grand centre\n",
      "City not found. Skipping...\n",
      "Processing Record 30 of Set 3 | harper\n",
      "Processing Record 31 of Set 3 | lorengau\n",
      "Processing Record 32 of Set 3 | zhezkazgan\n",
      "Processing Record 33 of Set 3 | ilulissat\n",
      "Processing Record 34 of Set 3 | kendari\n",
      "Processing Record 35 of Set 3 | toamasina\n",
      "Processing Record 36 of Set 3 | lakes entrance\n",
      "Processing Record 37 of Set 3 | provideniya\n",
      "Processing Record 38 of Set 3 | souillac\n",
      "Processing Record 39 of Set 3 | chokurdakh\n",
      "Processing Record 40 of Set 3 | zhangye\n",
      "Processing Record 41 of Set 3 | palencia\n",
      "Processing Record 42 of Set 3 | yakeshi\n",
      "Processing Record 43 of Set 3 | perth\n",
      "Processing Record 44 of Set 3 | mount gambier\n",
      "Processing Record 45 of Set 3 | terekli-mekteb\n",
      "Processing Record 46 of Set 3 | east london\n",
      "Processing Record 47 of Set 3 | mahebourg\n",
      "Processing Record 48 of Set 3 | cabedelo\n",
      "Processing Record 49 of Set 3 | sioux lookout\n",
      "Processing Record 0 of Set 4 | ossora\n",
      "Processing Record 1 of Set 4 | chunskiy\n",
      "Processing Record 2 of Set 4 | port elizabeth\n",
      "Processing Record 3 of Set 4 | tiznit\n",
      "Processing Record 4 of Set 4 | skalistyy\n",
      "City not found. Skipping...\n",
      "Processing Record 5 of Set 4 | upernavik\n",
      "Processing Record 6 of Set 4 | husavik\n",
      "Processing Record 7 of Set 4 | lompoc\n",
      "Processing Record 8 of Set 4 | xuddur\n",
      "Processing Record 9 of Set 4 | castro\n",
      "Processing Record 10 of Set 4 | arlit\n",
      "Processing Record 11 of Set 4 | berea\n",
      "Processing Record 12 of Set 4 | bethel\n",
      "Processing Record 13 of Set 4 | alice town\n",
      "Processing Record 14 of Set 4 | michalovce\n",
      "Processing Record 15 of Set 4 | nikolskoye\n",
      "Processing Record 16 of Set 4 | luderitz\n",
      "Processing Record 17 of Set 4 | nguiu\n",
      "City not found. Skipping...\n",
      "Processing Record 18 of Set 4 | nagapattinam\n",
      "Processing Record 19 of Set 4 | portland\n",
      "Processing Record 20 of Set 4 | mollendo\n",
      "Processing Record 21 of Set 4 | pokhara\n",
      "Processing Record 22 of Set 4 | gat\n",
      "Processing Record 23 of Set 4 | pouebo\n",
      "Processing Record 24 of Set 4 | rajgarh\n",
      "Processing Record 25 of Set 4 | ponta do sol\n",
      "Processing Record 26 of Set 4 | okhotsk\n",
      "Processing Record 27 of Set 4 | kuvshinovo\n",
      "Processing Record 28 of Set 4 | abonnema\n",
      "Processing Record 29 of Set 4 | buta\n",
      "Processing Record 30 of Set 4 | attawapiskat\n",
      "City not found. Skipping...\n",
      "Processing Record 31 of Set 4 | nabire\n",
      "Processing Record 32 of Set 4 | hovd\n",
      "Processing Record 33 of Set 4 | chengde\n",
      "Processing Record 34 of Set 4 | gamba\n",
      "Processing Record 35 of Set 4 | las vegas\n"
     ]
    },
    {
     "name": "stdout",
     "output_type": "stream",
     "text": [
      "Processing Record 36 of Set 4 | avera\n",
      "Processing Record 37 of Set 4 | sorland\n",
      "Processing Record 38 of Set 4 | damaturu\n",
      "Processing Record 39 of Set 4 | mrirt\n",
      "City not found. Skipping...\n",
      "Processing Record 40 of Set 4 | kunyang\n",
      "Processing Record 41 of Set 4 | lata\n",
      "Processing Record 42 of Set 4 | atasu\n",
      "Processing Record 43 of Set 4 | mehamn\n",
      "Processing Record 44 of Set 4 | plettenberg bay\n",
      "Processing Record 45 of Set 4 | kostivere\n",
      "Processing Record 46 of Set 4 | vaini\n",
      "Processing Record 47 of Set 4 | buenos aires\n",
      "Processing Record 48 of Set 4 | kangasala\n",
      "Processing Record 49 of Set 4 | adrar\n",
      "Processing Record 0 of Set 5 | shimoda\n",
      "Processing Record 1 of Set 5 | torbay\n",
      "Processing Record 2 of Set 5 | sidi ali\n",
      "Processing Record 3 of Set 5 | plaster rock\n",
      "Processing Record 4 of Set 5 | shurugwi\n",
      "Processing Record 5 of Set 5 | namibe\n",
      "Processing Record 6 of Set 5 | ternate\n",
      "Processing Record 7 of Set 5 | kamaishi\n",
      "Processing Record 8 of Set 5 | baryatino\n",
      "Processing Record 9 of Set 5 | diamantino\n",
      "Processing Record 10 of Set 5 | mayor pablo lagerenza\n",
      "Processing Record 11 of Set 5 | nanortalik\n",
      "Processing Record 12 of Set 5 | caconda\n",
      "Processing Record 13 of Set 5 | naze\n",
      "Processing Record 14 of Set 5 | vredendal\n",
      "Processing Record 15 of Set 5 | faanui\n",
      "Processing Record 16 of Set 5 | buraydah\n",
      "Processing Record 17 of Set 5 | samusu\n",
      "City not found. Skipping...\n",
      "Processing Record 18 of Set 5 | avarua\n",
      "Processing Record 19 of Set 5 | kyaikto\n",
      "Processing Record 20 of Set 5 | bandar-e lengeh\n",
      "Processing Record 21 of Set 5 | dikson\n",
      "Processing Record 22 of Set 5 | kavieng\n",
      "Processing Record 23 of Set 5 | lebu\n",
      "Processing Record 24 of Set 5 | cidreira\n",
      "Processing Record 25 of Set 5 | manokwari\n",
      "Processing Record 26 of Set 5 | paamiut\n",
      "Processing Record 27 of Set 5 | cotonou\n",
      "Processing Record 28 of Set 5 | tasiilaq\n",
      "Processing Record 29 of Set 5 | arraial do cabo\n",
      "Processing Record 30 of Set 5 | sao filipe\n",
      "Processing Record 31 of Set 5 | alta floresta\n",
      "Processing Record 32 of Set 5 | sampit\n",
      "Processing Record 33 of Set 5 | mosjoen\n",
      "Processing Record 34 of Set 5 | cherskiy\n",
      "Processing Record 35 of Set 5 | geraldton\n",
      "Processing Record 36 of Set 5 | zhanaozen\n",
      "Processing Record 37 of Set 5 | barcelona\n",
      "Processing Record 38 of Set 5 | tuktoyaktuk\n",
      "Processing Record 39 of Set 5 | lavrentiya\n",
      "Processing Record 40 of Set 5 | mount isa\n",
      "Processing Record 41 of Set 5 | clyde river\n",
      "Processing Record 42 of Set 5 | saint-francois\n",
      "Processing Record 43 of Set 5 | shepsi\n",
      "Processing Record 44 of Set 5 | japura\n",
      "Processing Record 45 of Set 5 | seoul\n",
      "Processing Record 46 of Set 5 | yulara\n",
      "Processing Record 47 of Set 5 | carnarvon\n",
      "Processing Record 48 of Set 5 | sept-iles\n",
      "Processing Record 49 of Set 5 | sistranda\n",
      "Processing Record 0 of Set 6 | neiafu\n",
      "Processing Record 1 of Set 6 | ketchikan\n",
      "Processing Record 2 of Set 6 | vila franca do campo\n",
      "Processing Record 3 of Set 6 | sola\n",
      "Processing Record 4 of Set 6 | sangar\n",
      "Processing Record 5 of Set 6 | ouidah\n",
      "Processing Record 6 of Set 6 | beloha\n",
      "Processing Record 7 of Set 6 | mys shmidta\n",
      "City not found. Skipping...\n",
      "Processing Record 8 of Set 6 | maldonado\n",
      "Processing Record 9 of Set 6 | kungurtug\n",
      "Processing Record 10 of Set 6 | kenai\n",
      "Processing Record 11 of Set 6 | duz\n",
      "City not found. Skipping...\n",
      "Processing Record 12 of Set 6 | chagda\n",
      "City not found. Skipping...\n",
      "Processing Record 13 of Set 6 | gladstone\n",
      "Processing Record 14 of Set 6 | touros\n",
      "Processing Record 15 of Set 6 | kiunga\n",
      "Processing Record 16 of Set 6 | judaberg\n",
      "Processing Record 17 of Set 6 | kichera\n",
      "Processing Record 18 of Set 6 | praia\n",
      "Processing Record 19 of Set 6 | narsaq\n",
      "Processing Record 20 of Set 6 | muhos\n",
      "Processing Record 21 of Set 6 | jining\n",
      "Processing Record 22 of Set 6 | tandil\n",
      "Processing Record 23 of Set 6 | norman wells\n",
      "Processing Record 24 of Set 6 | glendive\n",
      "Processing Record 25 of Set 6 | saleaula\n",
      "City not found. Skipping...\n",
      "Processing Record 26 of Set 6 | margate\n",
      "Processing Record 27 of Set 6 | hasaki\n",
      "Processing Record 28 of Set 6 | jakar\n",
      "Processing Record 29 of Set 6 | kaitangata\n",
      "Processing Record 30 of Set 6 | pakxe\n",
      "Processing Record 31 of Set 6 | san patricio\n",
      "Processing Record 32 of Set 6 | deniliquin\n",
      "Processing Record 33 of Set 6 | duluth\n",
      "Processing Record 34 of Set 6 | livanatai\n",
      "Processing Record 35 of Set 6 | mishan\n",
      "Processing Record 36 of Set 6 | mattru\n",
      "Processing Record 37 of Set 6 | georgetown\n",
      "Processing Record 38 of Set 6 | newport\n",
      "Processing Record 39 of Set 6 | necochea\n",
      "Processing Record 40 of Set 6 | victoria point\n",
      "Processing Record 41 of Set 6 | kutum\n",
      "Processing Record 42 of Set 6 | hoyanger\n",
      "Processing Record 43 of Set 6 | havoysund\n",
      "Processing Record 44 of Set 6 | praia da vitoria\n",
      "Processing Record 45 of Set 6 | ystad\n",
      "Processing Record 46 of Set 6 | half moon bay\n",
      "Processing Record 47 of Set 6 | matagami\n",
      "Processing Record 48 of Set 6 | aljezur\n",
      "Processing Record 49 of Set 6 | karkaralinsk\n",
      "City not found. Skipping...\n",
      "Processing Record 0 of Set 7 | doctor pedro p. pena\n",
      "City not found. Skipping...\n",
      "Processing Record 1 of Set 7 | vizinga\n",
      "Processing Record 2 of Set 7 | panaba\n",
      "Processing Record 3 of Set 7 | samarinda\n",
      "Processing Record 4 of Set 7 | seitin\n",
      "Processing Record 5 of Set 7 | hirara\n",
      "Processing Record 6 of Set 7 | port lincoln\n",
      "Processing Record 7 of Set 7 | hobyo\n",
      "Processing Record 8 of Set 7 | karaul\n",
      "City not found. Skipping...\n",
      "Processing Record 9 of Set 7 | sao joao da barra\n",
      "Processing Record 10 of Set 7 | port blair\n",
      "Processing Record 11 of Set 7 | linchuan\n",
      "City not found. Skipping...\n",
      "Processing Record 12 of Set 7 | witu\n",
      "Processing Record 13 of Set 7 | poltava\n",
      "Processing Record 14 of Set 7 | presidencia roque saenz pena\n",
      "Processing Record 15 of Set 7 | guerrero negro\n",
      "Processing Record 16 of Set 7 | vanavara\n",
      "Processing Record 17 of Set 7 | kyabe\n",
      "Processing Record 18 of Set 7 | inawashiro\n",
      "Processing Record 19 of Set 7 | huarmey\n",
      "Processing Record 20 of Set 7 | mangan\n",
      "Processing Record 21 of Set 7 | coquimbo\n",
      "Processing Record 22 of Set 7 | camargo\n",
      "Processing Record 23 of Set 7 | inuvik\n",
      "Processing Record 24 of Set 7 | beringovskiy\n",
      "Processing Record 25 of Set 7 | brae\n",
      "Processing Record 26 of Set 7 | roald\n",
      "Processing Record 27 of Set 7 | rio grande\n",
      "Processing Record 28 of Set 7 | fort nelson\n",
      "Processing Record 29 of Set 7 | nizwa\n",
      "Processing Record 30 of Set 7 | manzhouli\n",
      "Processing Record 31 of Set 7 | mocuba\n",
      "Processing Record 32 of Set 7 | tala\n",
      "Processing Record 33 of Set 7 | tera\n",
      "Processing Record 34 of Set 7 | vieques\n",
      "Processing Record 35 of Set 7 | ukiah\n",
      "Processing Record 36 of Set 7 | tsihombe\n",
      "City not found. Skipping...\n",
      "Processing Record 37 of Set 7 | hay river\n",
      "Processing Record 38 of Set 7 | nsoko\n",
      "Processing Record 39 of Set 7 | pimentel\n",
      "Processing Record 40 of Set 7 | myitkyina\n",
      "Processing Record 41 of Set 7 | biak\n",
      "Processing Record 42 of Set 7 | zhaoqing\n",
      "Processing Record 43 of Set 7 | ancud\n",
      "Processing Record 44 of Set 7 | bako\n",
      "Processing Record 45 of Set 7 | puerto madryn\n",
      "Processing Record 46 of Set 7 | maibong\n",
      "Processing Record 47 of Set 7 | palabuhanratu\n",
      "City not found. Skipping...\n",
      "Processing Record 48 of Set 7 | jalu\n",
      "Processing Record 49 of Set 7 | oktyabrskiy\n",
      "Processing Record 0 of Set 8 | coihaique\n",
      "Processing Record 1 of Set 8 | kuytun\n",
      "Processing Record 2 of Set 8 | sibolga\n",
      "Processing Record 3 of Set 8 | zelenoborsk\n",
      "Processing Record 4 of Set 8 | arcachon\n",
      "Processing Record 5 of Set 8 | vernon\n",
      "Processing Record 6 of Set 8 | kodiak\n",
      "Processing Record 7 of Set 8 | nizhneyansk\n",
      "City not found. Skipping...\n",
      "Processing Record 8 of Set 8 | jabiru\n",
      "City not found. Skipping...\n",
      "Processing Record 9 of Set 8 | savannah bight\n",
      "Processing Record 10 of Set 8 | nampula\n",
      "Processing Record 11 of Set 8 | jiazi\n",
      "Processing Record 12 of Set 8 | vytegra\n",
      "Processing Record 13 of Set 8 | minab\n",
      "Processing Record 14 of Set 8 | canberra\n",
      "Processing Record 15 of Set 8 | fuyang\n",
      "Processing Record 16 of Set 8 | carballo\n",
      "Processing Record 17 of Set 8 | lagoa\n",
      "Processing Record 18 of Set 8 | benguela\n",
      "Processing Record 19 of Set 8 | ostrovnoy\n",
      "Processing Record 20 of Set 8 | severo-kurilsk\n",
      "Processing Record 21 of Set 8 | atambua\n",
      "Processing Record 22 of Set 8 | george town\n",
      "Processing Record 23 of Set 8 | labytnangi\n",
      "Processing Record 24 of Set 8 | dubti\n",
      "Processing Record 25 of Set 8 | slave lake\n",
      "Processing Record 26 of Set 8 | ngukurr\n"
     ]
    },
    {
     "name": "stdout",
     "output_type": "stream",
     "text": [
      "City not found. Skipping...\n",
      "Processing Record 27 of Set 8 | westport\n",
      "Processing Record 28 of Set 8 | jumla\n",
      "Processing Record 29 of Set 8 | ostersund\n",
      "Processing Record 30 of Set 8 | bolungarvik\n",
      "City not found. Skipping...\n",
      "Processing Record 31 of Set 8 | sandwick\n",
      "Processing Record 32 of Set 8 | dukhovshchina\n",
      "Processing Record 33 of Set 8 | isangel\n",
      "Processing Record 34 of Set 8 | ledyard\n",
      "Processing Record 35 of Set 8 | poco das trincheiras\n",
      "Processing Record 36 of Set 8 | bedi\n",
      "Processing Record 37 of Set 8 | parasia\n",
      "Processing Record 38 of Set 8 | katsuura\n",
      "Processing Record 39 of Set 8 | katsiveli\n",
      "City not found. Skipping...\n",
      "Processing Record 40 of Set 8 | tezu\n",
      "Processing Record 41 of Set 8 | yaan\n",
      "Processing Record 42 of Set 8 | mayo\n",
      "Processing Record 43 of Set 8 | nemuro\n",
      "Processing Record 44 of Set 8 | kattivakkam\n",
      "Processing Record 45 of Set 8 | asau\n",
      "Processing Record 46 of Set 8 | barentsburg\n",
      "City not found. Skipping...\n",
      "Processing Record 47 of Set 8 | tabuk\n",
      "Processing Record 48 of Set 8 | hereford\n",
      "Processing Record 49 of Set 8 | iwanai\n",
      "Processing Record 0 of Set 9 | bima\n",
      "Processing Record 1 of Set 9 | ambon\n",
      "Processing Record 2 of Set 9 | parrita\n",
      "Processing Record 3 of Set 9 | kalmunai\n",
      "Processing Record 4 of Set 9 | prince george\n",
      "Processing Record 5 of Set 9 | pleshanovo\n",
      "Processing Record 6 of Set 9 | talnakh\n",
      "Processing Record 7 of Set 9 | kulhudhuffushi\n",
      "Processing Record 8 of Set 9 | orlik\n",
      "Processing Record 9 of Set 9 | nueva loja\n",
      "Processing Record 10 of Set 9 | andapa\n",
      "Processing Record 11 of Set 9 | kahului\n",
      "Processing Record 12 of Set 9 | aybak\n",
      "City not found. Skipping...\n",
      "Processing Record 13 of Set 9 | mergui\n",
      "City not found. Skipping...\n",
      "Processing Record 14 of Set 9 | rio cuarto\n",
      "Processing Record 15 of Set 9 | vostok\n",
      "Processing Record 16 of Set 9 | savalou\n",
      "Processing Record 17 of Set 9 | rawson\n",
      "Processing Record 18 of Set 9 | kaeo\n",
      "Processing Record 19 of Set 9 | llangefni\n",
      "Processing Record 20 of Set 9 | dzhusaly\n",
      "City not found. Skipping...\n",
      "Processing Record 21 of Set 9 | sao gabriel da cachoeira\n",
      "Processing Record 22 of Set 9 | vila velha\n",
      "Processing Record 23 of Set 9 | belmopan\n",
      "Processing Record 24 of Set 9 | ligayan\n",
      "Processing Record 25 of Set 9 | tabou\n",
      "Processing Record 26 of Set 9 | nattarasankottai\n",
      "Processing Record 27 of Set 9 | port hedland\n",
      "Processing Record 28 of Set 9 | cockburn town\n",
      "Processing Record 29 of Set 9 | ivanovka\n",
      "Processing Record 30 of Set 9 | comodoro rivadavia\n",
      "Processing Record 31 of Set 9 | sinnamary\n",
      "Processing Record 32 of Set 9 | kasama\n",
      "Processing Record 33 of Set 9 | iquique\n",
      "Processing Record 34 of Set 9 | kerki\n",
      "City not found. Skipping...\n",
      "Processing Record 35 of Set 9 | toyooka\n",
      "Processing Record 36 of Set 9 | dunedin\n",
      "Processing Record 37 of Set 9 | salinopolis\n",
      "Processing Record 38 of Set 9 | chifeng\n",
      "Processing Record 39 of Set 9 | karratha\n",
      "Processing Record 40 of Set 9 | el badari\n",
      "City not found. Skipping...\n",
      "Processing Record 41 of Set 9 | meiganga\n",
      "Processing Record 42 of Set 9 | sandur\n",
      "Processing Record 43 of Set 9 | shihezi\n",
      "Processing Record 44 of Set 9 | kem\n",
      "Processing Record 45 of Set 9 | arman\n",
      "Processing Record 46 of Set 9 | santa cruz\n",
      "Processing Record 47 of Set 9 | haibowan\n",
      "City not found. Skipping...\n",
      "Processing Record 48 of Set 9 | rajpur\n",
      "Processing Record 49 of Set 9 | severo-yeniseyskiy\n",
      "Processing Record 0 of Set 10 | ahlat\n",
      "Processing Record 1 of Set 10 | lazaro cardenas\n",
      "Processing Record 2 of Set 10 | shimanovsk\n",
      "Processing Record 3 of Set 10 | northam\n",
      "Processing Record 4 of Set 10 | alcantara\n",
      "Processing Record 5 of Set 10 | dongsheng\n",
      "Processing Record 6 of Set 10 | haines junction\n",
      "Processing Record 7 of Set 10 | pathein\n",
      "Processing Record 8 of Set 10 | batagay-alyta\n",
      "Processing Record 9 of Set 10 | itoman\n",
      "Processing Record 10 of Set 10 | maryborough\n",
      "Processing Record 11 of Set 10 | derzhavinsk\n",
      "Processing Record 12 of Set 10 | codrington\n",
      "Processing Record 13 of Set 10 | pisco\n",
      "Processing Record 14 of Set 10 | dzilam gonzalez\n",
      "Processing Record 15 of Set 10 | araouane\n",
      "Processing Record 16 of Set 10 | tabory\n",
      "Processing Record 17 of Set 10 | pevek\n",
      "Processing Record 18 of Set 10 | hayden\n",
      "Processing Record 19 of Set 10 | luis gil perez\n",
      "Processing Record 20 of Set 10 | bagdarin\n",
      "Processing Record 21 of Set 10 | umm kaddadah\n",
      "Processing Record 22 of Set 10 | puerto escondido\n",
      "Processing Record 23 of Set 10 | makrikapa\n",
      "City not found. Skipping...\n",
      "Processing Record 24 of Set 10 | kodinsk\n",
      "Processing Record 25 of Set 10 | poso\n",
      "Processing Record 26 of Set 10 | alofi\n",
      "Processing Record 27 of Set 10 | surovikino\n",
      "Processing Record 28 of Set 10 | black river\n",
      "Processing Record 29 of Set 10 | pechenga\n",
      "Processing Record 30 of Set 10 | mattawa\n",
      "Processing Record 31 of Set 10 | ulaangom\n",
      "Processing Record 32 of Set 10 | lumeje\n",
      "Processing Record 33 of Set 10 | thinadhoo\n",
      "Processing Record 34 of Set 10 | scarborough\n",
      "Processing Record 35 of Set 10 | nigel\n",
      "Processing Record 36 of Set 10 | boffa\n",
      "Processing Record 37 of Set 10 | kropotkin\n",
      "Processing Record 38 of Set 10 | toma\n",
      "Processing Record 39 of Set 10 | hun\n",
      "Processing Record 40 of Set 10 | parral\n",
      "Processing Record 41 of Set 10 | magadan\n",
      "Processing Record 42 of Set 10 | kazalinsk\n",
      "City not found. Skipping...\n",
      "Processing Record 43 of Set 10 | victoria\n",
      "Processing Record 44 of Set 10 | maniitsoq\n",
      "Processing Record 45 of Set 10 | fortuna\n",
      "Processing Record 46 of Set 10 | teguise\n",
      "Processing Record 47 of Set 10 | natal\n",
      "Processing Record 48 of Set 10 | cagayan de tawi-tawi\n",
      "City not found. Skipping...\n",
      "Processing Record 49 of Set 10 | waingapu\n",
      "Processing Record 0 of Set 11 | ajdabiya\n",
      "Processing Record 1 of Set 11 | tawang\n",
      "Processing Record 2 of Set 11 | tungkang\n",
      "City not found. Skipping...\n",
      "Processing Record 3 of Set 11 | sovetskiy\n",
      "Processing Record 4 of Set 11 | marquette\n",
      "Processing Record 5 of Set 11 | mtwara\n",
      "Processing Record 6 of Set 11 | padang\n",
      "Processing Record 7 of Set 11 | laguna\n",
      "Processing Record 8 of Set 11 | nortelandia\n",
      "Processing Record 9 of Set 11 | buala\n",
      "Processing Record 10 of Set 11 | artyk\n",
      "City not found. Skipping...\n",
      "Processing Record 11 of Set 11 | utiroa\n",
      "City not found. Skipping...\n",
      "Processing Record 12 of Set 11 | ribeira grande\n",
      "Processing Record 13 of Set 11 | chulman\n",
      "Processing Record 14 of Set 11 | marsa matruh\n",
      "Processing Record 15 of Set 11 | spring hill\n",
      "Processing Record 16 of Set 11 | kampot\n",
      "Processing Record 17 of Set 11 | kozhanka\n",
      "Processing Record 18 of Set 11 | bur gabo\n",
      "City not found. Skipping...\n",
      "Processing Record 19 of Set 11 | anadyr\n",
      "Processing Record 20 of Set 11 | tevaitoa\n",
      "Processing Record 21 of Set 11 | gashua\n",
      "Processing Record 22 of Set 11 | ust-kuyga\n",
      "Processing Record 23 of Set 11 | polyarnyy\n",
      "Processing Record 24 of Set 11 | kieta\n",
      "Processing Record 25 of Set 11 | pochutla\n",
      "Processing Record 26 of Set 11 | zhanatas\n",
      "City not found. Skipping...\n",
      "Processing Record 27 of Set 11 | fairbanks\n",
      "Processing Record 28 of Set 11 | kashi\n",
      "Processing Record 29 of Set 11 | mahibadhoo\n",
      "Processing Record 30 of Set 11 | vanimo\n",
      "Processing Record 31 of Set 11 | formosa\n",
      "Processing Record 32 of Set 11 | balotra\n",
      "Processing Record 33 of Set 11 | calvia\n",
      "Processing Record 34 of Set 11 | louisbourg\n",
      "City not found. Skipping...\n",
      "Processing Record 35 of Set 11 | ferzikovo\n",
      "Processing Record 36 of Set 11 | curaca\n",
      "Processing Record 37 of Set 11 | chany\n",
      "Processing Record 38 of Set 11 | mercedes\n",
      "Processing Record 39 of Set 11 | dhing\n",
      "Processing Record 40 of Set 11 | gumdag\n",
      "Processing Record 41 of Set 11 | sobolevo\n",
      "Processing Record 42 of Set 11 | awjilah\n",
      "Processing Record 43 of Set 11 | matara\n",
      "Processing Record 44 of Set 11 | guajara-mirim\n",
      "City not found. Skipping...\n",
      "Processing Record 45 of Set 11 | kashkhatau\n",
      "Processing Record 46 of Set 11 | tefe\n",
      "Processing Record 47 of Set 11 | petropavlovka\n",
      "Processing Record 48 of Set 11 | sakakah\n",
      "Processing Record 49 of Set 11 | reserva\n",
      "Processing Record 0 of Set 12 | kargasok\n",
      "Processing Record 1 of Set 12 | acapulco\n",
      "Processing Record 2 of Set 12 | nanhai\n",
      "Processing Record 3 of Set 12 | qasigiannguit\n",
      "Processing Record 4 of Set 12 | marystown\n",
      "Processing Record 5 of Set 12 | boa vista\n",
      "Processing Record 6 of Set 12 | awbari\n",
      "Processing Record 7 of Set 12 | umm lajj\n",
      "Processing Record 8 of Set 12 | araguaina\n",
      "Processing Record 9 of Set 12 | macusani\n",
      "Processing Record 10 of Set 12 | jomalig\n"
     ]
    },
    {
     "name": "stdout",
     "output_type": "stream",
     "text": [
      "City not found. Skipping...\n",
      "Processing Record 11 of Set 12 | marhaura\n",
      "Processing Record 12 of Set 12 | iranshahr\n",
      "Processing Record 13 of Set 12 | eirunepe\n",
      "Processing Record 14 of Set 12 | tura\n",
      "Processing Record 15 of Set 12 | viedma\n",
      "Processing Record 16 of Set 12 | yamada\n",
      "Processing Record 17 of Set 12 | shache\n",
      "Processing Record 18 of Set 12 | mackenzie\n",
      "Processing Record 19 of Set 12 | harnosand\n",
      "Processing Record 20 of Set 12 | broome\n",
      "Processing Record 21 of Set 12 | galle\n",
      "Processing Record 22 of Set 12 | labutta\n",
      "City not found. Skipping...\n",
      "Processing Record 23 of Set 12 | mugur-aksy\n",
      "Processing Record 24 of Set 12 | ibra\n",
      "Processing Record 25 of Set 12 | beyneu\n",
      "Processing Record 26 of Set 12 | hervey bay\n",
      "Processing Record 27 of Set 12 | batagay\n",
      "Processing Record 28 of Set 12 | fare\n",
      "Processing Record 29 of Set 12 | staraya poltavka\n",
      "Processing Record 30 of Set 12 | mulege\n",
      "Processing Record 31 of Set 12 | songjianghe\n",
      "Processing Record 32 of Set 12 | chara\n",
      "Processing Record 33 of Set 12 | lovozero\n",
      "Processing Record 34 of Set 12 | bilma\n",
      "Processing Record 35 of Set 12 | te anau\n",
      "Processing Record 36 of Set 12 | saint-augustin\n",
      "Processing Record 37 of Set 12 | korinos\n",
      "Processing Record 38 of Set 12 | xichang\n",
      "Processing Record 39 of Set 12 | cape canaveral\n",
      "Processing Record 40 of Set 12 | ye\n",
      "City not found. Skipping...\n",
      "Processing Record 41 of Set 12 | sfantu gheorghe\n",
      "Processing Record 42 of Set 12 | ponta delgada\n",
      "Processing Record 43 of Set 12 | bathsheba\n",
      "Processing Record 44 of Set 12 | upala\n",
      "Processing Record 45 of Set 12 | jacareacanga\n",
      "Processing Record 46 of Set 12 | bagotville\n",
      "Processing Record 47 of Set 12 | jalor\n",
      "Processing Record 48 of Set 12 | dubuque\n",
      "Processing Record 49 of Set 12 | eucaliptus\n",
      "Processing Record 0 of Set 13 | hohhot\n",
      "Processing Record 1 of Set 13 | pemba\n",
      "Processing Record 2 of Set 13 | vilyuysk\n",
      "Processing Record 3 of Set 13 | huilong\n",
      "Processing Record 4 of Set 13 | montgomery\n",
      "Processing Record 5 of Set 13 | muyezerskiy\n",
      "Processing Record 6 of Set 13 | clearlake\n",
      "Processing Record 7 of Set 13 | sinkat\n",
      "City not found. Skipping...\n",
      "Processing Record 8 of Set 13 | manzil tamim\n",
      "City not found. Skipping...\n",
      "Processing Record 9 of Set 13 | oksfjord\n",
      "Processing Record 10 of Set 13 | qaqortoq\n",
      "-----------------------------\n",
      "Data Retrieval Complete      \n",
      "-----------------------------\n"
     ]
    }
   ],
   "source": [
    "# Set the API base URL\n",
    "url = f\"https://api.openweathermap.org/data/2.5/weather?appid={weather_api_key}&units=metric&q=\"\n",
    "\n",
    "# Define an empty list to fetch the weather data for each city\n",
    "city_data = []\n",
    "\n",
    "# Print to logger\n",
    "print(\"Beginning Data Retrieval     \")\n",
    "print(\"-----------------------------\")\n",
    "\n",
    "# Create counters\n",
    "record_count = 1\n",
    "set_count = 1\n",
    "\n",
    "# Loop through all the cities in our list to fetch weather data\n",
    "for i, city in enumerate(cities):\n",
    "        \n",
    "    # Group cities in sets of 50 for logging purposes\n",
    "    if (i % 50 == 0 and i >= 50):\n",
    "        set_count += 1\n",
    "        record_count = 0\n",
    "\n",
    "    # Create endpoint URL with each city\n",
    "    city_url = url + city\n",
    "    \n",
    "    # Log the url, record, and set numbers\n",
    "    print(\"Processing Record %s of Set %s | %s\" % (record_count, set_count, city))\n",
    "\n",
    "    # Add 1 to the record count\n",
    "    record_count += 1\n",
    "\n",
    "    # Run an API request for each of the cities\n",
    "    try:\n",
    "        # Parse the JSON and retrieve data\n",
    "        city_weather = requests.get(city_url).json()\n",
    "\n",
    "        # Parse out latitude, longitude, max temp, humidity, cloudiness, wind speed, country, and date\n",
    "        city_lat = city_weather['coord']['lat']\n",
    "        city_lng = city_weather['coord']['lon']\n",
    "        city_max_temp = city_weather['main']['temp_max']\n",
    "        city_humidity = city_weather['main']['humidity']\n",
    "        city_clouds = city_weather['clouds']['all']\n",
    "        city_wind = city_weather['wind']['speed']\n",
    "        city_country = city_weather['sys']['country']\n",
    "        city_date = city_weather['timezone']\n",
    "\n",
    "        # Append the City information into city_data list\n",
    "        city_data.append({\"City\": city, \n",
    "                          \"Lat\": city_lat, \n",
    "                          \"Lng\": city_lng, \n",
    "                          \"Max Temp\": city_max_temp,\n",
    "                          \"Humidity\": city_humidity,\n",
    "                          \"Cloudiness\": city_clouds,\n",
    "                          \"Wind Speed\": city_wind,\n",
    "                          \"Country\": city_country,\n",
    "                          \"Date\": city_date})\n",
    "\n",
    "    # If an error is experienced, skip the city\n",
    "    except:\n",
    "        print(\"City not found. Skipping...\")\n",
    "        pass\n",
    "              \n",
    "# Indicate that Data Loading is complete \n",
    "print(\"-----------------------------\")\n",
    "print(\"Data Retrieval Complete      \")\n",
    "print(\"-----------------------------\")"
   ]
  },
  {
   "cell_type": "code",
   "execution_count": 4,
   "metadata": {},
   "outputs": [
    {
     "data": {
      "text/plain": [
       "City          556\n",
       "Lat           556\n",
       "Lng           556\n",
       "Max Temp      556\n",
       "Humidity      556\n",
       "Cloudiness    556\n",
       "Wind Speed    556\n",
       "Country       556\n",
       "Date          556\n",
       "dtype: int64"
      ]
     },
     "execution_count": 4,
     "metadata": {},
     "output_type": "execute_result"
    }
   ],
   "source": [
    "# Convert the cities weather data into a Pandas DataFrame\n",
    "city_data_df = pd.DataFrame (city_data, columns = ['City','Lat','Lng','Max Temp','Humidity','Cloudiness','Wind Speed','Country','Date'])\n",
    "# Show Record Count\n",
    "city_data_df.count()"
   ]
  },
  {
   "cell_type": "code",
   "execution_count": 5,
   "metadata": {},
   "outputs": [
    {
     "data": {
      "text/html": [
       "<div>\n",
       "<style scoped>\n",
       "    .dataframe tbody tr th:only-of-type {\n",
       "        vertical-align: middle;\n",
       "    }\n",
       "\n",
       "    .dataframe tbody tr th {\n",
       "        vertical-align: top;\n",
       "    }\n",
       "\n",
       "    .dataframe thead th {\n",
       "        text-align: right;\n",
       "    }\n",
       "</style>\n",
       "<table border=\"1\" class=\"dataframe\">\n",
       "  <thead>\n",
       "    <tr style=\"text-align: right;\">\n",
       "      <th></th>\n",
       "      <th>City</th>\n",
       "      <th>Lat</th>\n",
       "      <th>Lng</th>\n",
       "      <th>Max Temp</th>\n",
       "      <th>Humidity</th>\n",
       "      <th>Cloudiness</th>\n",
       "      <th>Wind Speed</th>\n",
       "      <th>Country</th>\n",
       "      <th>Date</th>\n",
       "    </tr>\n",
       "  </thead>\n",
       "  <tbody>\n",
       "    <tr>\n",
       "      <th>0</th>\n",
       "      <td>mataura</td>\n",
       "      <td>-46.1927</td>\n",
       "      <td>168.8643</td>\n",
       "      <td>4.48</td>\n",
       "      <td>93</td>\n",
       "      <td>21</td>\n",
       "      <td>1.35</td>\n",
       "      <td>NZ</td>\n",
       "      <td>46800</td>\n",
       "    </tr>\n",
       "    <tr>\n",
       "      <th>1</th>\n",
       "      <td>qaanaaq</td>\n",
       "      <td>77.4840</td>\n",
       "      <td>-69.3632</td>\n",
       "      <td>-16.59</td>\n",
       "      <td>86</td>\n",
       "      <td>100</td>\n",
       "      <td>2.00</td>\n",
       "      <td>GL</td>\n",
       "      <td>-14400</td>\n",
       "    </tr>\n",
       "    <tr>\n",
       "      <th>2</th>\n",
       "      <td>bluff</td>\n",
       "      <td>-46.6000</td>\n",
       "      <td>168.3333</td>\n",
       "      <td>8.84</td>\n",
       "      <td>78</td>\n",
       "      <td>66</td>\n",
       "      <td>5.34</td>\n",
       "      <td>NZ</td>\n",
       "      <td>46800</td>\n",
       "    </tr>\n",
       "    <tr>\n",
       "      <th>3</th>\n",
       "      <td>ushuaia</td>\n",
       "      <td>-54.8000</td>\n",
       "      <td>-68.3000</td>\n",
       "      <td>8.81</td>\n",
       "      <td>81</td>\n",
       "      <td>75</td>\n",
       "      <td>3.09</td>\n",
       "      <td>AR</td>\n",
       "      <td>-10800</td>\n",
       "    </tr>\n",
       "    <tr>\n",
       "      <th>4</th>\n",
       "      <td>ayorou</td>\n",
       "      <td>14.7308</td>\n",
       "      <td>0.9174</td>\n",
       "      <td>30.20</td>\n",
       "      <td>11</td>\n",
       "      <td>0</td>\n",
       "      <td>3.58</td>\n",
       "      <td>NE</td>\n",
       "      <td>3600</td>\n",
       "    </tr>\n",
       "  </tbody>\n",
       "</table>\n",
       "</div>"
      ],
      "text/plain": [
       "      City      Lat       Lng  Max Temp  Humidity  Cloudiness  Wind Speed  \\\n",
       "0  mataura -46.1927  168.8643      4.48        93          21        1.35   \n",
       "1  qaanaaq  77.4840  -69.3632    -16.59        86         100        2.00   \n",
       "2    bluff -46.6000  168.3333      8.84        78          66        5.34   \n",
       "3  ushuaia -54.8000  -68.3000      8.81        81          75        3.09   \n",
       "4   ayorou  14.7308    0.9174     30.20        11           0        3.58   \n",
       "\n",
       "  Country   Date  \n",
       "0      NZ  46800  \n",
       "1      GL -14400  \n",
       "2      NZ  46800  \n",
       "3      AR -10800  \n",
       "4      NE   3600  "
      ]
     },
     "execution_count": 5,
     "metadata": {},
     "output_type": "execute_result"
    }
   ],
   "source": [
    "# Display sample data\n",
    "city_data_df.head()"
   ]
  },
  {
   "cell_type": "code",
   "execution_count": 6,
   "metadata": {},
   "outputs": [],
   "source": [
    "# Export the City_Data into a csv\n",
    "city_data_df.to_csv(\"output_data/cities.csv\", index_label=\"City_ID\")"
   ]
  },
  {
   "cell_type": "code",
   "execution_count": 7,
   "metadata": {},
   "outputs": [
    {
     "data": {
      "text/html": [
       "<div>\n",
       "<style scoped>\n",
       "    .dataframe tbody tr th:only-of-type {\n",
       "        vertical-align: middle;\n",
       "    }\n",
       "\n",
       "    .dataframe tbody tr th {\n",
       "        vertical-align: top;\n",
       "    }\n",
       "\n",
       "    .dataframe thead th {\n",
       "        text-align: right;\n",
       "    }\n",
       "</style>\n",
       "<table border=\"1\" class=\"dataframe\">\n",
       "  <thead>\n",
       "    <tr style=\"text-align: right;\">\n",
       "      <th></th>\n",
       "      <th>City</th>\n",
       "      <th>Lat</th>\n",
       "      <th>Lng</th>\n",
       "      <th>Max Temp</th>\n",
       "      <th>Humidity</th>\n",
       "      <th>Cloudiness</th>\n",
       "      <th>Wind Speed</th>\n",
       "      <th>Country</th>\n",
       "      <th>Date</th>\n",
       "    </tr>\n",
       "    <tr>\n",
       "      <th>City_ID</th>\n",
       "      <th></th>\n",
       "      <th></th>\n",
       "      <th></th>\n",
       "      <th></th>\n",
       "      <th></th>\n",
       "      <th></th>\n",
       "      <th></th>\n",
       "      <th></th>\n",
       "      <th></th>\n",
       "    </tr>\n",
       "  </thead>\n",
       "  <tbody>\n",
       "    <tr>\n",
       "      <th>0</th>\n",
       "      <td>mataura</td>\n",
       "      <td>-46.1927</td>\n",
       "      <td>168.8643</td>\n",
       "      <td>4.48</td>\n",
       "      <td>93</td>\n",
       "      <td>21</td>\n",
       "      <td>1.35</td>\n",
       "      <td>NZ</td>\n",
       "      <td>46800</td>\n",
       "    </tr>\n",
       "    <tr>\n",
       "      <th>1</th>\n",
       "      <td>qaanaaq</td>\n",
       "      <td>77.4840</td>\n",
       "      <td>-69.3632</td>\n",
       "      <td>-16.59</td>\n",
       "      <td>86</td>\n",
       "      <td>100</td>\n",
       "      <td>2.00</td>\n",
       "      <td>GL</td>\n",
       "      <td>-14400</td>\n",
       "    </tr>\n",
       "    <tr>\n",
       "      <th>2</th>\n",
       "      <td>bluff</td>\n",
       "      <td>-46.6000</td>\n",
       "      <td>168.3333</td>\n",
       "      <td>8.84</td>\n",
       "      <td>78</td>\n",
       "      <td>66</td>\n",
       "      <td>5.34</td>\n",
       "      <td>NZ</td>\n",
       "      <td>46800</td>\n",
       "    </tr>\n",
       "    <tr>\n",
       "      <th>3</th>\n",
       "      <td>ushuaia</td>\n",
       "      <td>-54.8000</td>\n",
       "      <td>-68.3000</td>\n",
       "      <td>8.81</td>\n",
       "      <td>81</td>\n",
       "      <td>75</td>\n",
       "      <td>3.09</td>\n",
       "      <td>AR</td>\n",
       "      <td>-10800</td>\n",
       "    </tr>\n",
       "    <tr>\n",
       "      <th>4</th>\n",
       "      <td>ayorou</td>\n",
       "      <td>14.7308</td>\n",
       "      <td>0.9174</td>\n",
       "      <td>30.20</td>\n",
       "      <td>11</td>\n",
       "      <td>0</td>\n",
       "      <td>3.58</td>\n",
       "      <td>NE</td>\n",
       "      <td>3600</td>\n",
       "    </tr>\n",
       "  </tbody>\n",
       "</table>\n",
       "</div>"
      ],
      "text/plain": [
       "            City      Lat       Lng  Max Temp  Humidity  Cloudiness  \\\n",
       "City_ID                                                               \n",
       "0        mataura -46.1927  168.8643      4.48        93          21   \n",
       "1        qaanaaq  77.4840  -69.3632    -16.59        86         100   \n",
       "2          bluff -46.6000  168.3333      8.84        78          66   \n",
       "3        ushuaia -54.8000  -68.3000      8.81        81          75   \n",
       "4         ayorou  14.7308    0.9174     30.20        11           0   \n",
       "\n",
       "         Wind Speed Country   Date  \n",
       "City_ID                             \n",
       "0              1.35      NZ  46800  \n",
       "1              2.00      GL -14400  \n",
       "2              5.34      NZ  46800  \n",
       "3              3.09      AR -10800  \n",
       "4              3.58      NE   3600  "
      ]
     },
     "execution_count": 7,
     "metadata": {},
     "output_type": "execute_result"
    }
   ],
   "source": [
    "# Read saved data\n",
    "city_data_df = pd.read_csv(\"output_data/cities.csv\", index_col=\"City_ID\")\n",
    "\n",
    "# Display sample data\n",
    "city_data_df.head()"
   ]
  },
  {
   "cell_type": "markdown",
   "metadata": {},
   "source": [
    "### Create the Scatter Plots Requested\n",
    "\n",
    "#### Latitude Vs. Temperature"
   ]
  },
  {
   "cell_type": "code",
   "execution_count": 8,
   "metadata": {
    "tags": []
   },
   "outputs": [
    {
     "data": {
      "image/png": "[encoded data removed]",
      "text/plain": [
       "<Figure size 432x288 with 1 Axes>"
      ]
     },
     "metadata": {
      "needs_background": "light"
     },
     "output_type": "display_data"
    }
   ],
   "source": [
    "# Build scatter plot for latitude vs. temperature\n",
    "plt.scatter(city_data_df['Lat'],city_data_df['Max Temp'])\n",
    "\n",
    "# Incorporate the other graph properties\n",
    "plt.title(\"City Max Temperature vs Latitude\")\n",
    "plt.ylabel(\"Max Temperature (C)\")\n",
    "plt.xlabel(\"Latitude\")\n",
    "plt.grid(True)\n",
    "\n",
    "\n",
    "# Save the figure\n",
    "plt.savefig(\"output_data/Fig1.png\")\n",
    "\n",
    "# Show plot\n",
    "plt.show()"
   ]
  },
  {
   "cell_type": "markdown",
   "metadata": {},
   "source": [
    "#### Latitude Vs. Humidity"
   ]
  },
  {
   "cell_type": "code",
   "execution_count": 9,
   "metadata": {},
   "outputs": [
    {
     "data": {
      "image/png": "[encoded data removed]",
      "text/plain": [
       "<Figure size 432x288 with 1 Axes>"
      ]
     },
     "metadata": {
      "needs_background": "light"
     },
     "output_type": "display_data"
    }
   ],
   "source": [
    "# Build the scatter plots for latitude vs. humidity\n",
    "plt.scatter(city_data_df['Lat'],city_data_df['Humidity'])\n",
    "\n",
    "# Incorporate the other graph properties\n",
    "plt.title(\"City Max Temperature vs Humidity\")\n",
    "plt.ylabel(\"Humidity (%)\")\n",
    "plt.xlabel(\"Latitude\")\n",
    "plt.grid(True)\n",
    "\n",
    "# Save the figure\n",
    "plt.savefig(\"output_data/Fig2.png\")\n",
    "\n",
    "# Show plot\n",
    "plt.show()"
   ]
  },
  {
   "cell_type": "markdown",
   "metadata": {},
   "source": [
    "#### Latitude Vs. Cloudiness"
   ]
  },
  {
   "cell_type": "code",
   "execution_count": 10,
   "metadata": {},
   "outputs": [
    {
     "data": {
      "image/png": "[encoded data removed]",
      "text/plain": [
       "<Figure size 432x288 with 1 Axes>"
      ]
     },
     "metadata": {
      "needs_background": "light"
     },
     "output_type": "display_data"
    }
   ],
   "source": [
    "# Build the scatter plots for latitude vs. cloudiness\n",
    "plt.scatter(city_data_df['Lat'],city_data_df['Cloudiness'])\n",
    "\n",
    "# Incorporate the other graph properties\n",
    "plt.title(\"City Max Temperature vs Cloudiness\")\n",
    "plt.ylabel(\"Cloudiness (%)\")\n",
    "plt.xlabel(\"Latitude\")\n",
    "plt.grid(True)\n",
    "\n",
    "\n",
    "# Save the figure\n",
    "plt.savefig(\"output_data/Fig3.png\")\n",
    "\n",
    "# Show plot\n",
    "plt.show()"
   ]
  },
  {
   "cell_type": "markdown",
   "metadata": {},
   "source": [
    "#### Latitude vs. Wind Speed Plot"
   ]
  },
  {
   "cell_type": "code",
   "execution_count": 11,
   "metadata": {},
   "outputs": [
    {
     "data": {
      "image/png": "[encoded data removed]",
      "text/plain": [
       "<Figure size 432x288 with 1 Axes>"
      ]
     },
     "metadata": {
      "needs_background": "light"
     },
     "output_type": "display_data"
    }
   ],
   "source": [
    "# Build the scatter plots for latitude vs. wind speed\n",
    "plt.scatter(city_data_df['Lat'],city_data_df['Wind Speed'])\n",
    "\n",
    "# Incorporate the other graph properties\n",
    "plt.title(\"City Max Temperature vs Wind Speed\")\n",
    "plt.ylabel(\"Wind Speed (m/s)\")\n",
    "plt.xlabel(\"Latitude\")\n",
    "plt.grid(True)\n",
    "\n",
    "# Save the figure\n",
    "plt.savefig(\"output_data/Fig4.png\")\n",
    "\n",
    "# Show plot\n",
    "plt.show()"
   ]
  },
  {
   "cell_type": "markdown",
   "metadata": {},
   "source": [
    "---\n",
    "\n",
    "## Requirement 2: Compute Linear Regression for Each Relationship\n"
   ]
  },
  {
   "cell_type": "code",
   "execution_count": 12,
   "metadata": {},
   "outputs": [],
   "source": [
    "# Define a function to create Linear Regression plots\n",
    "def estimate_coef(x, y):\n",
    "    # number of observations/points\n",
    "    n = np.size(x)\n",
    "  \n",
    "    # mean of x and y vector\n",
    "    m_x = np.mean(x)\n",
    "    m_y = np.mean(y)\n",
    "  \n",
    "    # calculating cross-deviation and deviation about x\n",
    "    SS_xy = np.sum(y*x) - n*m_y*m_x\n",
    "    SS_xx = np.sum(x*x) - n*m_x*m_x\n",
    "  \n",
    "    # calculating regression coefficients\n",
    "    b_1 = SS_xy / SS_xx\n",
    "    b_0 = m_y - b_1*m_x\n",
    "    reg_line ='y = {}x + {}'.format(round(b_1, 2),round(b_0, 2))\n",
    "    return (b_0, b_1,reg_line)\n",
    "\n",
    "def plot_regression_line(x, y, b):\n",
    "    # plotting the actual points as scatter plot\n",
    "    plt.scatter(x, y, color = \"b\",\n",
    "               marker = \"o\", s = 30)\n",
    "  \n",
    "    # predicted response vector\n",
    "    y_pred = b[0] + b[1]*x\n",
    "  \n",
    "    # plotting the regression line\n",
    "    plt.plot(x, y_pred, color = \"g\")\n",
    "  \n",
    "  "
   ]
  },
  {
   "cell_type": "code",
   "execution_count": 13,
   "metadata": {},
   "outputs": [
    {
     "data": {
      "text/html": [
       "<div>\n",
       "<style scoped>\n",
       "    .dataframe tbody tr th:only-of-type {\n",
       "        vertical-align: middle;\n",
       "    }\n",
       "\n",
       "    .dataframe tbody tr th {\n",
       "        vertical-align: top;\n",
       "    }\n",
       "\n",
       "    .dataframe thead th {\n",
       "        text-align: right;\n",
       "    }\n",
       "</style>\n",
       "<table border=\"1\" class=\"dataframe\">\n",
       "  <thead>\n",
       "    <tr style=\"text-align: right;\">\n",
       "      <th></th>\n",
       "      <th>City</th>\n",
       "      <th>Lat</th>\n",
       "      <th>Lng</th>\n",
       "      <th>Max Temp</th>\n",
       "      <th>Humidity</th>\n",
       "      <th>Cloudiness</th>\n",
       "      <th>Wind Speed</th>\n",
       "      <th>Country</th>\n",
       "      <th>Date</th>\n",
       "    </tr>\n",
       "    <tr>\n",
       "      <th>City_ID</th>\n",
       "      <th></th>\n",
       "      <th></th>\n",
       "      <th></th>\n",
       "      <th></th>\n",
       "      <th></th>\n",
       "      <th></th>\n",
       "      <th></th>\n",
       "      <th></th>\n",
       "      <th></th>\n",
       "    </tr>\n",
       "  </thead>\n",
       "  <tbody>\n",
       "    <tr>\n",
       "      <th>1</th>\n",
       "      <td>qaanaaq</td>\n",
       "      <td>77.4840</td>\n",
       "      <td>-69.3632</td>\n",
       "      <td>-16.59</td>\n",
       "      <td>86</td>\n",
       "      <td>100</td>\n",
       "      <td>2.00</td>\n",
       "      <td>GL</td>\n",
       "      <td>-14400</td>\n",
       "    </tr>\n",
       "    <tr>\n",
       "      <th>4</th>\n",
       "      <td>ayorou</td>\n",
       "      <td>14.7308</td>\n",
       "      <td>0.9174</td>\n",
       "      <td>30.20</td>\n",
       "      <td>11</td>\n",
       "      <td>0</td>\n",
       "      <td>3.58</td>\n",
       "      <td>NE</td>\n",
       "      <td>3600</td>\n",
       "    </tr>\n",
       "    <tr>\n",
       "      <th>10</th>\n",
       "      <td>kitzingen</td>\n",
       "      <td>49.7333</td>\n",
       "      <td>10.1667</td>\n",
       "      <td>8.04</td>\n",
       "      <td>81</td>\n",
       "      <td>72</td>\n",
       "      <td>2.92</td>\n",
       "      <td>DE</td>\n",
       "      <td>3600</td>\n",
       "    </tr>\n",
       "    <tr>\n",
       "      <th>11</th>\n",
       "      <td>ardakan</td>\n",
       "      <td>32.3100</td>\n",
       "      <td>54.0175</td>\n",
       "      <td>17.56</td>\n",
       "      <td>21</td>\n",
       "      <td>0</td>\n",
       "      <td>1.85</td>\n",
       "      <td>IR</td>\n",
       "      <td>12600</td>\n",
       "    </tr>\n",
       "    <tr>\n",
       "      <th>12</th>\n",
       "      <td>soria</td>\n",
       "      <td>41.6667</td>\n",
       "      <td>-2.6667</td>\n",
       "      <td>11.03</td>\n",
       "      <td>100</td>\n",
       "      <td>92</td>\n",
       "      <td>2.60</td>\n",
       "      <td>ES</td>\n",
       "      <td>3600</td>\n",
       "    </tr>\n",
       "  </tbody>\n",
       "</table>\n",
       "</div>"
      ],
      "text/plain": [
       "              City      Lat      Lng  Max Temp  Humidity  Cloudiness  \\\n",
       "City_ID                                                                \n",
       "1          qaanaaq  77.4840 -69.3632    -16.59        86         100   \n",
       "4           ayorou  14.7308   0.9174     30.20        11           0   \n",
       "10       kitzingen  49.7333  10.1667      8.04        81          72   \n",
       "11         ardakan  32.3100  54.0175     17.56        21           0   \n",
       "12           soria  41.6667  -2.6667     11.03       100          92   \n",
       "\n",
       "         Wind Speed Country   Date  \n",
       "City_ID                             \n",
       "1              2.00      GL -14400  \n",
       "4              3.58      NE   3600  \n",
       "10             2.92      DE   3600  \n",
       "11             1.85      IR  12600  \n",
       "12             2.60      ES   3600  "
      ]
     },
     "execution_count": 13,
     "metadata": {},
     "output_type": "execute_result"
    }
   ],
   "source": [
    "# Create a DataFrame with the Northern Hemisphere data (Latitude >= 0)\n",
    "northern_hemi_df =pd.DataFrame (city_data_df[city_data_df['Lat']>= 0])\n",
    "# Display sample data\n",
    "northern_hemi_df.head()"
   ]
  },
  {
   "cell_type": "code",
   "execution_count": 14,
   "metadata": {},
   "outputs": [
    {
     "data": {
      "text/html": [
       "<div>\n",
       "<style scoped>\n",
       "    .dataframe tbody tr th:only-of-type {\n",
       "        vertical-align: middle;\n",
       "    }\n",
       "\n",
       "    .dataframe tbody tr th {\n",
       "        vertical-align: top;\n",
       "    }\n",
       "\n",
       "    .dataframe thead th {\n",
       "        text-align: right;\n",
       "    }\n",
       "</style>\n",
       "<table border=\"1\" class=\"dataframe\">\n",
       "  <thead>\n",
       "    <tr style=\"text-align: right;\">\n",
       "      <th></th>\n",
       "      <th>City</th>\n",
       "      <th>Lat</th>\n",
       "      <th>Lng</th>\n",
       "      <th>Max Temp</th>\n",
       "      <th>Humidity</th>\n",
       "      <th>Cloudiness</th>\n",
       "      <th>Wind Speed</th>\n",
       "      <th>Country</th>\n",
       "      <th>Date</th>\n",
       "    </tr>\n",
       "    <tr>\n",
       "      <th>City_ID</th>\n",
       "      <th></th>\n",
       "      <th></th>\n",
       "      <th></th>\n",
       "      <th></th>\n",
       "      <th></th>\n",
       "      <th></th>\n",
       "      <th></th>\n",
       "      <th></th>\n",
       "      <th></th>\n",
       "    </tr>\n",
       "  </thead>\n",
       "  <tbody>\n",
       "    <tr>\n",
       "      <th>0</th>\n",
       "      <td>mataura</td>\n",
       "      <td>-46.1927</td>\n",
       "      <td>168.8643</td>\n",
       "      <td>4.48</td>\n",
       "      <td>93</td>\n",
       "      <td>21</td>\n",
       "      <td>1.35</td>\n",
       "      <td>NZ</td>\n",
       "      <td>46800</td>\n",
       "    </tr>\n",
       "    <tr>\n",
       "      <th>2</th>\n",
       "      <td>bluff</td>\n",
       "      <td>-46.6000</td>\n",
       "      <td>168.3333</td>\n",
       "      <td>8.84</td>\n",
       "      <td>78</td>\n",
       "      <td>66</td>\n",
       "      <td>5.34</td>\n",
       "      <td>NZ</td>\n",
       "      <td>46800</td>\n",
       "    </tr>\n",
       "    <tr>\n",
       "      <th>3</th>\n",
       "      <td>ushuaia</td>\n",
       "      <td>-54.8000</td>\n",
       "      <td>-68.3000</td>\n",
       "      <td>8.81</td>\n",
       "      <td>81</td>\n",
       "      <td>75</td>\n",
       "      <td>3.09</td>\n",
       "      <td>AR</td>\n",
       "      <td>-10800</td>\n",
       "    </tr>\n",
       "    <tr>\n",
       "      <th>5</th>\n",
       "      <td>juanjui</td>\n",
       "      <td>-7.1779</td>\n",
       "      <td>-76.7314</td>\n",
       "      <td>33.97</td>\n",
       "      <td>36</td>\n",
       "      <td>66</td>\n",
       "      <td>0.74</td>\n",
       "      <td>PE</td>\n",
       "      <td>-18000</td>\n",
       "    </tr>\n",
       "    <tr>\n",
       "      <th>6</th>\n",
       "      <td>manggar</td>\n",
       "      <td>-2.8833</td>\n",
       "      <td>108.2667</td>\n",
       "      <td>25.78</td>\n",
       "      <td>84</td>\n",
       "      <td>100</td>\n",
       "      <td>2.38</td>\n",
       "      <td>ID</td>\n",
       "      <td>25200</td>\n",
       "    </tr>\n",
       "  </tbody>\n",
       "</table>\n",
       "</div>"
      ],
      "text/plain": [
       "            City      Lat       Lng  Max Temp  Humidity  Cloudiness  \\\n",
       "City_ID                                                               \n",
       "0        mataura -46.1927  168.8643      4.48        93          21   \n",
       "2          bluff -46.6000  168.3333      8.84        78          66   \n",
       "3        ushuaia -54.8000  -68.3000      8.81        81          75   \n",
       "5        juanjui  -7.1779  -76.7314     33.97        36          66   \n",
       "6        manggar  -2.8833  108.2667     25.78        84         100   \n",
       "\n",
       "         Wind Speed Country   Date  \n",
       "City_ID                             \n",
       "0              1.35      NZ  46800  \n",
       "2              5.34      NZ  46800  \n",
       "3              3.09      AR -10800  \n",
       "5              0.74      PE -18000  \n",
       "6              2.38      ID  25200  "
      ]
     },
     "execution_count": 14,
     "metadata": {},
     "output_type": "execute_result"
    }
   ],
   "source": [
    "# Create a DataFrame with the Southern Hemisphere data (Latitude < 0)\n",
    "southern_hemi_df =pd.DataFrame (city_data_df[city_data_df['Lat'] < 0])\n",
    "\n",
    "# Display sample data\n",
    "southern_hemi_df.head()"
   ]
  },
  {
   "cell_type": "markdown",
   "metadata": {},
   "source": [
    "###  Temperature vs. Latitude Linear Regression Plot"
   ]
  },
  {
   "cell_type": "code",
   "execution_count": 19,
   "metadata": {},
   "outputs": [
    {
     "name": "stdout",
     "output_type": "stream",
     "text": [
      "The r-value is: 0.7366805369189778\n"
     ]
    },
    {
     "data": {
      "text/plain": [
       "Text(1, -20, 'y = -0.62x + 35.44')"
      ]
     },
     "execution_count": 19,
     "metadata": {},
     "output_type": "execute_result"
    },
    {
     "data": {
      "image/png": "[encoded data removed]",
      "text/plain": [
       "<Figure size 432x288 with 1 Axes>"
      ]
     },
     "metadata": {
      "needs_background": "light"
     },
     "output_type": "display_data"
    }
   ],
   "source": [
    "# Linear regression on Northern Hemisphere\n",
    "\n",
    "corr_matrix = np.corrcoef(northern_hemi_df['Lat'],northern_hemi_df['Max Temp'])\n",
    "corr = corr_matrix[0,1]\n",
    "R_sq = corr**2\n",
    "print('The r-value is:',R_sq)\n",
    "\n",
    "plt.scatter(northern_hemi_df['Lat'],northern_hemi_df['Max Temp'])\n",
    "plt.ylabel(\"Max Temperature (C)\")\n",
    "plt.xlabel(\"Latitude\")\n",
    "plot_regression_line(northern_hemi_df['Lat'],northern_hemi_df['Max Temp'],estimate_coef(northern_hemi_df['Lat'],northern_hemi_df['Max Temp']))\n",
    "b_0, b_1, reg_line = estimate_coef(northern_hemi_df['Lat'],northern_hemi_df['Max Temp'])\n",
    "plt.text(1, -20, reg_line,color='red',size ='15')"
   ]
  },
  {
   "cell_type": "code",
   "execution_count": 20,
   "metadata": {},
   "outputs": [
    {
     "name": "stdout",
     "output_type": "stream",
     "text": [
      "The r-value is: 0.3499960865910991\n"
     ]
    },
    {
     "data": {
      "text/plain": [
       "Text(-55, 35, 'y = 0.28x + 28.29')"
      ]
     },
     "execution_count": 20,
     "metadata": {},
     "output_type": "execute_result"
    },
    {
     "data": {
      "image/png": "[encoded data removed]",
      "text/plain": [
       "<Figure size 432x288 with 1 Axes>"
      ]
     },
     "metadata": {
      "needs_background": "light"
     },
     "output_type": "display_data"
    }
   ],
   "source": [
    "# Linear regression on Southern Hemisphere\n",
    "corr_matrix = np.corrcoef(southern_hemi_df['Lat'],southern_hemi_df['Max Temp'])\n",
    "corr = corr_matrix[0,1]\n",
    "R_sq = corr**2\n",
    "print('The r-value is:',R_sq)\n",
    "\n",
    "plt.scatter(southern_hemi_df['Lat'],southern_hemi_df['Max Temp'])\n",
    "plt.ylabel(\"Max Temperature (C)\")\n",
    "plt.xlabel(\"Latitude\")\n",
    "plot_regression_line(southern_hemi_df['Lat'],southern_hemi_df['Max Temp'],estimate_coef(southern_hemi_df['Lat'],southern_hemi_df['Max Temp']))\n",
    "b_0, b_1, reg_line = estimate_coef(southern_hemi_df['Lat'],southern_hemi_df['Max Temp'])\n",
    "plt.text(-55, 35, reg_line,color='red',size ='13')\n"
   ]
  },
  {
   "cell_type": "markdown",
   "metadata": {},
   "source": [
    "**Discussion about the linear relationship:** YOUR RESPONSE HERE"
   ]
  },
  {
   "cell_type": "markdown",
   "metadata": {},
   "source": [
    "### Humidity vs. Latitude Linear Regression Plot"
   ]
  },
  {
   "cell_type": "code",
   "execution_count": 21,
   "metadata": {},
   "outputs": [
    {
     "name": "stdout",
     "output_type": "stream",
     "text": [
      "The r-value is: 0.1704009225837765\n"
     ]
    },
    {
     "data": {
      "text/plain": [
       "Text(45, 15, 'y = 0.45x + 53.9')"
      ]
     },
     "execution_count": 21,
     "metadata": {},
     "output_type": "execute_result"
    },
    {
     "data": {
      "image/png": "[encoded data removed]",
      "text/plain": [
       "<Figure size 432x288 with 1 Axes>"
      ]
     },
     "metadata": {
      "needs_background": "light"
     },
     "output_type": "display_data"
    }
   ],
   "source": [
    "# Northern Hemisphere\n",
    "corr_matrix = np.corrcoef(northern_hemi_df['Lat'],northern_hemi_df['Humidity'])\n",
    "corr = corr_matrix[0,1]\n",
    "R_sq = corr**2\n",
    "print('The r-value is:',R_sq)\n",
    "\n",
    "plt.scatter(northern_hemi_df['Lat'],northern_hemi_df['Humidity'])\n",
    "plt.ylabel(\"Humidity\")\n",
    "plt.xlabel(\"Latitude\")\n",
    "plot_regression_line(northern_hemi_df['Lat'],northern_hemi_df['Humidity'],estimate_coef(northern_hemi_df['Lat'],northern_hemi_df['Humidity']))\n",
    "b_0, b_1, reg_line = estimate_coef(northern_hemi_df['Lat'],northern_hemi_df['Humidity'])\n",
    "plt.text(45, 15, reg_line,color='red',size ='13')"
   ]
  },
  {
   "cell_type": "code",
   "execution_count": 33,
   "metadata": {},
   "outputs": [
    {
     "name": "stdout",
     "output_type": "stream",
     "text": [
      "The r-value is: 0.011918695031321381\n"
     ]
    },
    {
     "data": {
      "text/plain": [
       "Text(-55, 35, 'y = 0.18x + 72.57')"
      ]
     },
     "execution_count": 33,
     "metadata": {},
     "output_type": "execute_result"
    },
    {
     "data": {
      "image/png": "[encoded data removed]",
      "text/plain": [
       "<Figure size 432x288 with 1 Axes>"
      ]
     },
     "metadata": {
      "needs_background": "light"
     },
     "output_type": "display_data"
    }
   ],
   "source": [
    "# Southern Hemisphere\n",
    "corr_matrix = np.corrcoef(southern_hemi_df['Lat'],southern_hemi_df['Humidity'])\n",
    "corr = corr_matrix[0,1]\n",
    "R_sq = corr**2\n",
    "print('The r-value is:',R_sq)\n",
    "\n",
    "plt.scatter(southern_hemi_df['Lat'],southern_hemi_df['Humidity'])\n",
    "plt.ylabel(\"Humidity\")\n",
    "plt.xlabel(\"Latitude\")\n",
    "plot_regression_line(southern_hemi_df['Lat'],southern_hemi_df['Humidity'],estimate_coef(southern_hemi_df['Lat'],southern_hemi_df['Humidity']))\n",
    "b_0, b_1, reg_line = estimate_coef(southern_hemi_df['Lat'],southern_hemi_df['Humidity'])\n",
    "plt.text(-55, 35, reg_line,color='red',size ='13')"
   ]
  },
  {
   "cell_type": "markdown",
   "metadata": {},
   "source": [
    "**Discussion about the linear relationship:** YOUR RESPONSE HERE"
   ]
  },
  {
   "cell_type": "markdown",
   "metadata": {},
   "source": [
    "### Cloudiness vs. Latitude Linear Regression Plot"
   ]
  },
  {
   "cell_type": "code",
   "execution_count": 23,
   "metadata": {},
   "outputs": [
    {
     "name": "stdout",
     "output_type": "stream",
     "text": [
      "The r-value is: 0.06585912089504242\n"
     ]
    },
    {
     "data": {
      "text/plain": [
       "Text(-55, 20, 'y = 0.51x + 39.34')"
      ]
     },
     "execution_count": 23,
     "metadata": {},
     "output_type": "execute_result"
    },
    {
     "data": {
      "image/png": "[encoded data removed]",
      "text/plain": [
       "<Figure size 432x288 with 1 Axes>"
      ]
     },
     "metadata": {
      "needs_background": "light"
     },
     "output_type": "display_data"
    }
   ],
   "source": [
    "# Northern Hemisphere\n",
    "corr_matrix = np.corrcoef(northern_hemi_df['Lat'],northern_hemi_df['Cloudiness'])\n",
    "corr = corr_matrix[0,1]\n",
    "R_sq = corr**2\n",
    "print('The r-value is:',R_sq)\n",
    "\n",
    "plt.scatter(northern_hemi_df['Lat'],northern_hemi_df['Cloudiness'])\n",
    "plt.ylabel(\"Cloudiness\")\n",
    "plt.xlabel(\"Latitude\")\n",
    "plot_regression_line(northern_hemi_df['Lat'],northern_hemi_df['Cloudiness'],estimate_coef(northern_hemi_df['Lat'],northern_hemi_df['Cloudiness']))\n",
    "b_0, b_1, reg_line = estimate_coef(northern_hemi_df['Lat'],northern_hemi_df['Cloudiness'])\n",
    "plt.text(-55, 20, reg_line,color='red',size ='15')\n"
   ]
  },
  {
   "cell_type": "code",
   "execution_count": 24,
   "metadata": {},
   "outputs": [
    {
     "name": "stdout",
     "output_type": "stream",
     "text": [
      "The r-value is: 0.10144811482977284\n"
     ]
    },
    {
     "data": {
      "text/plain": [
       "Text(-55, 45, 'y = 0.88x + 69.48')"
      ]
     },
     "execution_count": 24,
     "metadata": {},
     "output_type": "execute_result"
    },
    {
     "data": {
      "image/png": "[encoded data removed]",
      "text/plain": [
       "<Figure size 432x288 with 1 Axes>"
      ]
     },
     "metadata": {
      "needs_background": "light"
     },
     "output_type": "display_data"
    }
   ],
   "source": [
    "# Southern Hemisphere\n",
    "corr_matrix = np.corrcoef(southern_hemi_df['Lat'],southern_hemi_df['Cloudiness'])\n",
    "corr = corr_matrix[0,1]\n",
    "R_sq = corr**2\n",
    "print('The r-value is:',R_sq)\n",
    "\n",
    "plt.scatter(southern_hemi_df['Lat'],southern_hemi_df['Cloudiness'])\n",
    "plt.ylabel(\"Cloudiness\")\n",
    "plt.xlabel(\"Latitude\")\n",
    "plot_regression_line(southern_hemi_df['Lat'],southern_hemi_df['Cloudiness'],estimate_coef(southern_hemi_df['Lat'],southern_hemi_df['Cloudiness']))\n",
    "b_0, b_1, reg_line = estimate_coef(southern_hemi_df['Lat'],southern_hemi_df['Cloudiness'])\n",
    "plt.text(-55, 45, reg_line,color='red',size ='15')"
   ]
  },
  {
   "cell_type": "markdown",
   "metadata": {},
   "source": [
    "**Discussion about the linear relationship:** YOUR RESPONSE HERE"
   ]
  },
  {
   "cell_type": "markdown",
   "metadata": {},
   "source": [
    "### Wind Speed vs. Latitude Linear Regression Plot"
   ]
  },
  {
   "cell_type": "code",
   "execution_count": 26,
   "metadata": {},
   "outputs": [
    {
     "name": "stdout",
     "output_type": "stream",
     "text": [
      "The r-value is: 0.04391875362679504\n"
     ]
    },
    {
     "data": {
      "text/plain": [
       "Text(0, 10, 'y = 0.02x + 2.48')"
      ]
     },
     "execution_count": 26,
     "metadata": {},
     "output_type": "execute_result"
    },
    {
     "data": {
      "image/png": "[encoded data removed]",
      "text/plain": [
       "<Figure size 432x288 with 1 Axes>"
      ]
     },
     "metadata": {
      "needs_background": "light"
     },
     "output_type": "display_data"
    }
   ],
   "source": [
    "# Northern Hemisphere\n",
    "corr_matrix = np.corrcoef(northern_hemi_df['Lat'],northern_hemi_df['Wind Speed'])\n",
    "corr = corr_matrix[0,1]\n",
    "R_sq = corr**2\n",
    "print('The r-value is:',R_sq)\n",
    "\n",
    "plt.scatter(northern_hemi_df['Lat'],northern_hemi_df['Wind Speed'])\n",
    "plt.ylabel(\"Wind Speed\")\n",
    "plt.xlabel(\"Latitude\")\n",
    "plot_regression_line(northern_hemi_df['Lat'],northern_hemi_df['Wind Speed'],estimate_coef(northern_hemi_df['Lat'],northern_hemi_df['Wind Speed']))\n",
    "b_0, b_1, reg_line = estimate_coef(northern_hemi_df['Lat'],northern_hemi_df['Wind Speed'])\n",
    "plt.text(0, 10, reg_line,color='red',size ='15')\n"
   ]
  },
  {
   "cell_type": "code",
   "execution_count": 28,
   "metadata": {},
   "outputs": [
    {
     "name": "stdout",
     "output_type": "stream",
     "text": [
      "The r-value is: 0.11866623226525694\n"
     ]
    },
    {
     "data": {
      "text/plain": [
       "Text(-55, 11, 'y = -0.07x + 2.46')"
      ]
     },
     "execution_count": 28,
     "metadata": {},
     "output_type": "execute_result"
    },
    {
     "data": {
      "image/png": "[encoded data removed]",
      "text/plain": [
       "<Figure size 432x288 with 1 Axes>"
      ]
     },
     "metadata": {
      "needs_background": "light"
     },
     "output_type": "display_data"
    }
   ],
   "source": [
    "# Southern Hemisphere\n",
    "corr_matrix = np.corrcoef(southern_hemi_df['Lat'],southern_hemi_df['Wind Speed'])\n",
    "corr = corr_matrix[0,1]\n",
    "R_sq = corr**2\n",
    "print('The r-value is:',R_sq)\n",
    "\n",
    "plt.scatter(southern_hemi_df['Lat'],southern_hemi_df['Wind Speed'])\n",
    "plt.ylabel(\"Wind Speed\")\n",
    "plt.xlabel(\"Latitude\")\n",
    "plot_regression_line(southern_hemi_df['Lat'],southern_hemi_df['Wind Speed'],estimate_coef(southern_hemi_df['Lat'],southern_hemi_df['Wind Speed']))\n",
    "b_0, b_1, reg_line = estimate_coef(southern_hemi_df['Lat'],southern_hemi_df['Wind Speed'])\n",
    "plt.text(-55, 11, reg_line,color='red',size ='15')"
   ]
  },
  {
   "cell_type": "markdown",
   "metadata": {},
   "source": [
    "**Discussion about the linear relationship:** YOUR RESPONSE HERE"
   ]
  },
  {
   "cell_type": "code",
   "execution_count": null,
   "metadata": {},
   "outputs": [],
   "source": []
  },
  {
   "cell_type": "code",
   "execution_count": null,
   "metadata": {},
   "outputs": [],
   "source": []
  }
 ],
 "metadata": {
  "anaconda-cloud": {},
  "kernel_info": {
   "name": "python3"
  },
  "kernelspec": {
   "display_name": "Python [conda env:root]",
   "language": "python",
   "name": "conda-root-py"
  },
  "language_info": {
   "codemirror_mode": {
    "name": "ipython",
    "version": 3
   },
   "file_extension": ".py",
   "mimetype": "text/x-python",
   "name": "python",
   "nbconvert_exporter": "python",
   "pygments_lexer": "ipython3",
   "version": "3.9.12"
  },
  "latex_envs": {
   "LaTeX_envs_menu_present": true,
   "autoclose": false,
   "autocomplete": true,
   "bibliofile": "biblio.bib",
   "cite_by": "apalike",
   "current_citInitial": 1,
   "eqLabelWithNumbers": true,
   "eqNumInitial": 1,
   "hotkeys": {
    "equation": "Ctrl-E",
    "itemize": "Ctrl-I"
   },
   "labels_anchors": false,
   "latex_user_defs": false,
   "report_style_numbering": false,
   "user_envs_cfg": false
  },
  "nteract": {
   "version": "0.12.3"
  },
  "vscode": {
   "interpreter": {
    "hash": "1010116c3bdf52810dfd9b42e1b5535678424e09cbafae28a684cb7229289b88"
   }
  }
 },
 "nbformat": 4,
 "nbformat_minor": 4
}
